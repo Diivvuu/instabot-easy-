{
 "cells": [
  {
   "attachments": {},
   "cell_type": "markdown",
   "metadata": {},
   "source": [
    "#  Importing Libraries"
   ]
  },
  {
   "cell_type": "code",
   "execution_count": 134,
   "metadata": {},
   "outputs": [],
   "source": [
    "import time\n",
    "from selenium import webdriver\n",
    "from webdriver_manager.chrome import ChromeDriverManager\n",
    "from bs4 import BeautifulSoup\n",
    "from selenium.webdriver.common.by import By\n",
    "from selenium.webdriver.support.ui import WebDriverWait\n",
    "from selenium.webdriver.support import expected_conditions as EC\n",
    "from selenium.webdriver.chrome.service import Service"
   ]
  },
  {
   "cell_type": "code",
   "execution_count": 135,
   "metadata": {},
   "outputs": [
    {
     "name": "stderr",
     "output_type": "stream",
     "text": [
      "C:\\Users\\WELCOME\\AppData\\Local\\Temp\\ipykernel_26480\\365059496.py:1: DeprecationWarning: executable_path has been deprecated, please pass in a Service object\n",
      "  driver=webdriver.Chrome(ChromeDriverManager().install())\n"
     ]
    }
   ],
   "source": [
    "driver=webdriver.Chrome(ChromeDriverManager().install())"
   ]
  },
  {
   "attachments": {},
   "cell_type": "markdown",
   "metadata": {},
   "source": [
    "## Login to your Instagram Handle\n",
    "#### Submit with sample username and password"
   ]
  },
  {
   "cell_type": "code",
   "execution_count": 136,
   "metadata": {},
   "outputs": [],
   "source": [
    "driver.get('https://www.instagram.com/')\n",
    "driver.maximize_window()\n",
    "driver.implicitly_wait(5)\n",
    "# waiter=WebDriverWait(driver, 10).until(EC.presence_of_element_located((By.LINK_TEXT, \"Log in\")))"
   ]
  },
  {
   "attachments": {},
   "cell_type": "markdown",
   "metadata": {},
   "source": [
    "#### Logging in instagram"
   ]
  },
  {
   "cell_type": "code",
   "execution_count": 137,
   "metadata": {},
   "outputs": [],
   "source": [
    "SAMPLE_USERNAME = 'divyanshu_bawa_' #testAccountselenium\n",
    "SAMPLE_PASSWORD = 'B@w@zz786' #selenium123\n",
    "username = driver.find_element(By.NAME, 'username')\n",
    "username.send_keys(SAMPLE_USERNAME)\n",
    "password = driver.find_element(By.NAME, 'password')\n",
    "password.send_keys(SAMPLE_PASSWORD)\n",
    "driver.implicitly_wait(5)"
   ]
  },
  {
   "cell_type": "code",
   "execution_count": 138,
   "metadata": {},
   "outputs": [
    {
     "data": {
      "text/plain": [
       "<selenium.webdriver.remote.webelement.WebElement (session=\"ef81ca88b214507add6487ee227a0ed1\", element=\"19910123-2ccb-4cb4-a195-3532f5fa3d3e\")>"
      ]
     },
     "execution_count": 138,
     "metadata": {},
     "output_type": "execute_result"
    }
   ],
   "source": [
    "login_btn = driver.find_element(By.XPATH, '//button[contains(@class, \"_acap\")]/div')\n",
    "login_btn.click()\n",
    "\n",
    "WebDriverWait(driver, 5).until(EC.presence_of_element_located((By.CLASS_NAME, '_ac8f')))"
   ]
  },
  {
   "attachments": {},
   "cell_type": "markdown",
   "metadata": {},
   "source": [
    "##### Clicking on save info button(for saving username and password)"
   ]
  },
  {
   "cell_type": "code",
   "execution_count": 139,
   "metadata": {},
   "outputs": [
    {
     "data": {
      "text/plain": [
       "<selenium.webdriver.remote.webelement.WebElement (session=\"ef81ca88b214507add6487ee227a0ed1\", element=\"522374c8-e577-4ead-b32d-6698ef2afd69\")>"
      ]
     },
     "execution_count": 139,
     "metadata": {},
     "output_type": "execute_result"
    }
   ],
   "source": [
    "save_info = driver.find_element(By.CLASS_NAME, \"_ac8f\")\n",
    "save_info.click()\n",
    "WebDriverWait(driver, 5).until(EC.presence_of_element_located((By.CLASS_NAME, '_a9-z')))"
   ]
  },
  {
   "attachments": {},
   "cell_type": "markdown",
   "metadata": {},
   "source": [
    "#### CLicking on turn on notifications"
   ]
  },
  {
   "cell_type": "code",
   "execution_count": 140,
   "metadata": {},
   "outputs": [],
   "source": [
    "notif=driver.find_element(By.CLASS_NAME, '_a9-z').click()"
   ]
  },
  {
   "attachments": {},
   "cell_type": "markdown",
   "metadata": {},
   "source": [
    "#### Type for “food” in search bar and print all the names of the Instagram Handles that are displayed in list after typing “food”\n",
    "##### Note : Make sure to avoid printing hashtags"
   ]
  },
  {
   "cell_type": "code",
   "execution_count": 141,
   "metadata": {},
   "outputs": [],
   "source": [
    "search_box = driver.find_element(By.XPATH, '//div[starts-with(@class, \"xh8yej3 x1iyjqo2\")]/div[2]')\n",
    "search_box.click()\n",
    "wait = WebDriverWait(driver, 10).until(EC.presence_of_element_located((By.CLASS_NAME, '_aauy')))"
   ]
  },
  {
   "cell_type": "code",
   "execution_count": 142,
   "metadata": {},
   "outputs": [],
   "source": [
    "search_text = driver.find_element(By.CLASS_NAME, '_aauy')\n",
    "search_text.send_keys('food')\n",
    "# food_list = driver.find_elements(By.XPATH, '//div[starts-with(@class, \"_aac1\")]/div/div')\n",
    "food_list = driver.find_elements(By.XPATH, '//div[starts-with(@class, \"_abm4\")]/a/div/div[2]/div/div/div/div')"
   ]
  },
  {
   "cell_type": "code",
   "execution_count": 143,
   "metadata": {},
   "outputs": [
    {
     "name": "stdout",
     "output_type": "stream",
     "text": [
      "foodies.on.hunt\n",
      "foodiewe\n",
      "dilsefoodie\n",
      "\n",
      "foodinvadodara\n",
      "amdavadfoodcrush\n",
      "streetclubpatiala\n",
      "food\n",
      "foodexplorerpb08\n",
      "food_founder_\n",
      "food.yatra\n",
      "foodie_incarnate\n",
      "\n",
      "jasu.dian.food.diaries\n",
      "for.the.love.food\n",
      "\n",
      "food.for.india\n",
      "pune_food_blogger\n",
      "foodieemedicos\n",
      "foodrush.recipe\n",
      "foodsbible\n",
      "insiderfood\n",
      "\n",
      "sour__secrets\n",
      "rgfoodgarden\n",
      "zack.chug\n",
      "jalandharfoodiess\n",
      "foodie_jagjeetsingh\n",
      "foodpandits\n",
      "the_cocoon_project_\n",
      "foodtechsimplified\n",
      "thefitfoodiefitness\n",
      "depot.food\n",
      "mywhole_foodlife\n",
      "thespicesof.life_\n",
      "foodwithbhavna\n",
      "street_food_chandigarh\n",
      "foodzeee\n",
      "foodromancetravel\n",
      "gurwindersinghvlogs\n",
      "foodies_hood\n",
      "mr.mrs.foodexpress\n",
      "invinciblesgourmetfoodstore\n",
      "punefoodiesoul\n",
      "fauji_fast_food\n",
      "foodaddiicted\n",
      "foodhunt_with_shubham\n",
      "burger.roots\n",
      "amritsarfood\n",
      "amritsar.food.diaries\n",
      "_hungryhelpers._\n",
      "foodie_eraa\n"
     ]
    }
   ],
   "source": [
    "for i in food_list:\n",
    "    print(i.text)"
   ]
  },
  {
   "cell_type": "markdown",
   "metadata": {},
   "source": [
    "#### Clearing search bar"
   ]
  },
  {
   "cell_type": "code",
   "execution_count": 144,
   "metadata": {},
   "outputs": [],
   "source": [
    "# search_text.clear()\n",
    "cross = driver.find_element(By.XPATH, '//div[contains(@class, \"_aexm\")]/div[2]').click()\n",
    "search_text.send_keys('So Delhi')\n",
    "# WebDriverWait.until(EC.presence_of_element_located(()))"
   ]
  },
  {
   "attachments": {},
   "cell_type": "markdown",
   "metadata": {},
   "source": [
    "### Searching and Opening a profile using \n",
    "#### Open profile of “So Delhi” "
   ]
  },
  {
   "cell_type": "code",
   "execution_count": 145,
   "metadata": {},
   "outputs": [
    {
     "data": {
      "text/plain": [
       "<selenium.webdriver.remote.webelement.WebElement (session=\"ef81ca88b214507add6487ee227a0ed1\", element=\"bbecf0c7-b54c-42ed-8f9d-7ecb17b221f4\")>"
      ]
     },
     "execution_count": 145,
     "metadata": {},
     "output_type": "execute_result"
    }
   ],
   "source": [
    "So_Delhi = driver.find_element(By.CLASS_NAME, '_abm4')\n",
    "So_Delhi.click()\n",
    "WebDriverWait(driver, 10).until(EC.presence_of_element_located((By.XPATH, '//div[contains(@class, \"_aa_y\")]')))"
   ]
  },
  {
   "attachments": {},
   "cell_type": "markdown",
   "metadata": {},
   "source": [
    "### Follow/Unfollow given handle - \n",
    "#### Open the Instagram Handle of “So Delhi”\n",
    "#### Start following it. Print a message if you are already following\n"
   ]
  },
  {
   "cell_type": "code",
   "execution_count": 146,
   "metadata": {},
   "outputs": [],
   "source": [
    "if driver.find_element(By.XPATH, '//div[contains(@class, \"_aacw\")]').text == \"Following\":\n",
    "    print(\"Already following it.\")\n",
    "else:\n",
    "    follow_btn = driver.find_element(By.XPATH, '//button[starts-with(@class, \"_acan\")]')\n",
    "    follow_btn.click()\n",
    "time.sleep(5)"
   ]
  },
  {
   "attachments": {},
   "cell_type": "markdown",
   "metadata": {},
   "source": [
    "#### After following, unfollow the instagram handle. Print a message if you have already unfollowed."
   ]
  },
  {
   "cell_type": "code",
   "execution_count": 147,
   "metadata": {},
   "outputs": [],
   "source": [
    "if driver.find_element(By.XPATH, '//div[contains(@class, \"_aacw\")]').text == \"Following\":\n",
    "    driver.find_element(By.XPATH, '//button[starts-with(@class, \"_acan\")]').click()\n",
    "    WebDriverWait(driver, 5).until(EC.presence_of_element_located((By.XPATH, '/html/body/div[2]/div/div/div/div[2]/div/div/div[1]/div/div[2]/div/div/div/div/div[2]/div/div/div/div[7]/div/div/div/div/div/div')))\n",
    "    driver.find_element(By.XPATH, '/html/body/div[2]/div/div/div/div[2]/div/div/div[1]/div/div[2]/div/div/div/div/div[2]/div/div/div/div[7]/div/div/div/div/div/div').click()\n",
    "time.sleep(3)"
   ]
  },
  {
   "attachments": {},
   "cell_type": "markdown",
   "metadata": {},
   "source": [
    "### Like/Unlike posts\n",
    "Unliking the top 30 posts of the ‘dilsefoodie’. Print message if you have already unliked it.\n"
   ]
  },
  {
   "cell_type": "code",
   "execution_count": 148,
   "metadata": {},
   "outputs": [],
   "source": [
    "search = driver.find_element(By.XPATH, \"/html/body/div[2]/div/div/div/div[1]/div/div/div/div[1]/div[1]/div[1]/div/div/div/div/div[2]/div[2]/div/a/div/div[2]/div/div\")\n",
    "search.click()\n",
    "WebDriverWait(driver, 5).until(EC.presence_of_element_located((By.XPATH, \"/html/body/div[2]/div/div/div/div[1]/div/div/div/div[1]/div[1]/div[1]/div/div/div[2]/div/div/div[2]/div[1]/div/input\")))\n",
    "driver.find_element(By.XPATH, \"/html/body/div[2]/div/div/div/div[1]/div/div/div/div[1]/div[1]/div[1]/div/div/div[2]/div/div/div[2]/div[1]/div/input\").send_keys(\"dilsefoodie\")\n",
    "WebDriverWait(driver, 5).until(EC.presence_of_element_located((By.XPATH, '/html/body/div[2]/div/div/div/div[1]/div/div/div/div[1]/div[1]/div[1]/div/div/div[2]/div/div/div[2]/div[2]/div/div[1]/div/a/div/div[2]/div[2]/div')))\n",
    "driver.find_element(By.XPATH, '/html/body/div[2]/div/div/div/div[1]/div/div/div/div[1]/div[1]/div[1]/div/div/div[2]/div/div/div[2]/div[2]/div/div[1]/div/a/div/div[2]/div[2]/div').click()"
   ]
  },
  {
   "attachments": {},
   "cell_type": "markdown",
   "metadata": {},
   "source": [
    "#### Liking the top 30 posts of the ‘dilsefoodie'. Print message if you have already liked it."
   ]
  },
  {
   "cell_type": "code",
   "execution_count": 149,
   "metadata": {},
   "outputs": [
    {
     "name": "stdout",
     "output_type": "stream",
     "text": [
      "1 Liked\n",
      "2 Liked\n",
      "3 Liked\n",
      "4 Liked\n",
      "5 Liked\n",
      "6 Liked\n",
      "7 Liked\n",
      "8 Liked\n",
      "9 Liked\n",
      "10 Liked\n",
      "11 Liked\n",
      "12 Liked\n",
      "13 Liked\n",
      "14 Liked\n",
      "15 Liked\n",
      "16 Liked\n",
      "17 Liked\n",
      "18 Liked\n",
      "19 Liked\n",
      "20 Liked\n",
      "21 Liked\n",
      "22 Liked\n",
      "23 Liked\n",
      "24 Liked\n",
      "25 Already Liked\n",
      "26 Already Liked\n",
      "27 Already Liked\n",
      "28 Already Liked\n",
      "29 Already Liked\n",
      "30 Already Liked\n"
     ]
    }
   ],
   "source": [
    "driver.execute_script('window.scrollTo(0, 6000);')\n",
    "time.sleep(3)\n",
    "driver.execute_script('window.scrollTo(0,-6000);')\n",
    "time.sleep(3)\n",
    "driver.find_element(By.XPATH, '/html/body/div[2]/div/div/div/div[1]/div/div/div/div[1]/div[1]/div[2]/section/main/div/div[3]/article/div[1]/div/div[1]/div[1]').click()\n",
    "if BeautifulSoup(driver.find_element(By.XPATH,'//span[(@class = \"_aamw\")]').get_attribute('outerHTML'),'html.parser').svg['aria-label'] == 'Like':  \n",
    "    driver.find_element(By.XPATH, '/html/body/div[2]/div/div/div/div[2]/div/div/div[1]/div/div[3]/div/div/div/div/div[2]/div/article/div/div[2]/div/div/div[2]/section[1]/span[1]/button').click()\n",
    "    print('1 Liked')\n",
    "else:\n",
    "    print('1 Already Liked')\n",
    "time.sleep(1)\n",
    "driver.find_element(By.XPATH, '/html/body/div[2]/div/div/div/div[2]/div/div/div[1]/div/div[3]/div/div/div/div/div[1]/div/div/div/button').click()\n",
    "\n",
    "for i in range(29):\n",
    "    if BeautifulSoup(driver.find_element(By.XPATH,'//span[(@class = \"_aamw\")]').get_attribute('outerHTML'),'html.parser').svg['aria-label'] == 'Like':  \n",
    "        driver.find_element(By.XPATH, '/html/body/div[2]/div/div/div/div[2]/div/div/div[1]/div/div[3]/div/div/div/div/div[2]/div/article/div/div[2]/div/div/div[2]/section[1]/span[1]/button').click()\n",
    "        print(i+2, 'Liked')\n",
    "    else:\n",
    "        print(i+2, 'Already Liked')\n",
    "        time.sleep(1)\n",
    "    driver.find_element(By.XPATH, '/html/body/div[2]/div/div/div/div[2]/div/div/div[1]/div/div[3]/div/div/div/div/div[1]/div/div/div[2]/button').click()\n",
    "driver.find_element(By.XPATH, '/html/body/div[2]/div/div/div/div[2]/div/div/div[1]/div/div[2]').click()"
   ]
  },
  {
   "attachments": {},
   "cell_type": "markdown",
   "metadata": {},
   "source": [
    "#### Unliking the top 30 posts of the ‘dilsefoodie’. Print message if you have already unliked it."
   ]
  },
  {
   "cell_type": "code",
   "execution_count": 150,
   "metadata": {},
   "outputs": [
    {
     "name": "stdout",
     "output_type": "stream",
     "text": [
      "1 UnLiked\n",
      "2 UnLiked\n",
      "3 UnLiked\n",
      "4 UnLiked\n",
      "5 UnLiked\n",
      "6 UnLiked\n",
      "7 UnLiked\n",
      "8 UnLiked\n",
      "9 UnLiked\n",
      "10 UnLiked\n",
      "11 UnLiked\n",
      "12 UnLiked\n",
      "13 UnLiked\n",
      "14 UnLiked\n",
      "15 UnLiked\n",
      "16 UnLiked\n",
      "17 UnLiked\n",
      "18 UnLiked\n",
      "19 UnLiked\n",
      "20 UnLiked\n",
      "21 UnLiked\n",
      "22 UnLiked\n",
      "23 UnLiked\n",
      "24 UnLiked\n",
      "25 UnLiked\n",
      "26 UnLiked\n",
      "27 UnLiked\n",
      "28 UnLiked\n",
      "29 UnLiked\n",
      "30 UnLiked\n"
     ]
    }
   ],
   "source": [
    "driver.execute_script('window.scrollTo(0, 6000);')\n",
    "time.sleep(3)\n",
    "driver.execute_script('window.scrollTo(0,-6000);')\n",
    "time.sleep(3)\n",
    "driver.find_element(By.XPATH, '/html/body/div[2]/div/div/div/div[1]/div/div/div/div[1]/div[1]/div[2]/section/main/div/div[3]/article/div[1]/div/div[1]/div[1]').click()\n",
    "if BeautifulSoup(driver.find_element(By.XPATH,'//span[(@class = \"_aamw\")]').get_attribute('outerHTML'),'html.parser').svg['aria-label'] == 'Unlike':  \n",
    "    driver.find_element(By.XPATH, '/html/body/div[2]/div/div/div/div[2]/div/div/div[1]/div/div[3]/div/div/div/div/div[2]/div/article/div/div[2]/div/div/div[2]/section[1]/span[1]/button').click()\n",
    "    print('1 UnLiked')\n",
    "else:\n",
    "    print('1 Already UnLiked')\n",
    "time.sleep(1)\n",
    "driver.find_element(By.XPATH, '/html/body/div[2]/div/div/div/div[2]/div/div/div[1]/div/div[3]/div/div/div/div/div[1]/div/div/div/button').click()\n",
    "\n",
    "for i in range(29):\n",
    "    if BeautifulSoup(driver.find_element(By.XPATH,'//span[(@class = \"_aamw\")]').get_attribute('outerHTML'),'html.parser').svg['aria-label'] == 'Unlike':  \n",
    "        driver.find_element(By.XPATH, '/html/body/div[2]/div/div/div/div[2]/div/div/div[1]/div/div[3]/div/div/div/div/div[2]/div/article/div/div[2]/div/div/div[2]/section[1]/span[1]/button').click()\n",
    "        print(i+2, 'UnLiked')\n",
    "    else:\n",
    "        print(i+2, 'Already UnLiked')\n",
    "    time.sleep(1)\n",
    "    driver.find_element(By.XPATH, '/html/body/div[2]/div/div/div/div[2]/div/div/div[1]/div/div[3]/div/div/div/div/div[1]/div/div/div[2]/button').click()\n",
    "driver.find_element(By.XPATH, '/html/body/div[2]/div/div/div/div[2]/div/div/div[1]/div/div[2]').click()"
   ]
  },
  {
   "attachments": {},
   "cell_type": "markdown",
   "metadata": {},
   "source": [
    "### Extract list of followers\n",
    "#### Extract the usernames of the first 500 followers of ‘foodtalkindia’ and ‘sodelhi’.\n",
    "#### Now print all the followers of “foodtalkindia” that you are following but those who don’t follow you."
   ]
  },
  {
   "attachments": {},
   "cell_type": "markdown",
   "metadata": {},
   "source": [
    "###### as asked in the question we have to extract first 500 followers of foodtalkindia, but i am afraid it is not possible because its written on the top of followers list that 'Only foodtalkindia can see all followers.'\n",
    "###### So, here i have extracted all the followers which were visible to us."
   ]
  },
  {
   "cell_type": "code",
   "execution_count": 151,
   "metadata": {},
   "outputs": [
    {
     "data": {
      "text/plain": [
       "<selenium.webdriver.remote.webelement.WebElement (session=\"ef81ca88b214507add6487ee227a0ed1\", element=\"d94032a8-afa6-4c77-8c11-651e754ed7bc\")>"
      ]
     },
     "execution_count": 151,
     "metadata": {},
     "output_type": "execute_result"
    }
   ],
   "source": [
    "searchBox = driver.find_element(By.XPATH, '/html/body/div[2]/div/div/div/div[1]/div/div/div/div[1]/div[1]/div[1]/div/div/div/div/div[2]/div[2]/div')\n",
    "searchBox.click()\n",
    "WebDriverWait(driver, 5).until(EC.presence_of_element_located((By.XPATH, '/html/body/div[2]/div/div/div/div[1]/div/div/div/div[1]/div[1]/div[1]/div/div/div[2]/div/div/div[2]/div[1]/div')))"
   ]
  },
  {
   "cell_type": "code",
   "execution_count": 152,
   "metadata": {},
   "outputs": [],
   "source": [
    "searchText = driver.find_element(By.XPATH, '/html/body/div[2]/div/div/div/div[1]/div/div/div/div[1]/div[1]/div[1]/div/div/div[2]/div/div/div[2]/div[1]/div/input')\n",
    "searchText.send_keys('foodtalkindia')\n",
    "WebDriverWait(driver, 5).until(EC.presence_of_element_located((By.XPATH, '/html/body/div[2]/div/div/div/div[1]/div/div/div/div[1]/div[1]/div[1]/div/div/div[2]/div/div/div[2]/div[2]/div/div[1]/div/a/div/div[2]/div[1]/div/div/div[1]')))\n",
    "driver.find_element(By.XPATH, '/html/body/div[2]/div/div/div/div[1]/div/div/div/div[1]/div[1]/div[1]/div/div/div[2]/div/div/div[2]/div[2]/div/div[1]/div/a/div/div[2]/div[1]/div/div/div[1]').click()\n",
    "searchBox.click()"
   ]
  },
  {
   "cell_type": "code",
   "execution_count": 153,
   "metadata": {},
   "outputs": [],
   "source": [
    "driver.find_element(By.XPATH, '/html/body/div[2]/div/div/div/div[1]/div/div/div/div[1]/div[1]/div[2]/section/main/div/header/section/ul/li[2]/a/div').click()\n",
    "time.sleep(3)"
   ]
  },
  {
   "cell_type": "code",
   "execution_count": 154,
   "metadata": {},
   "outputs": [],
   "source": [
    "height = driver.execute_script('return arguments[0].scrollHeight;', driver.find_element(By.XPATH, '/html/body/div[2]/div/div/div/div[2]/div/div/div[1]/div/div[2]/div/div/div/div/div[2]/div/div/div[2]'))\n",
    "# print(height)\n",
    "driver.execute_script(\"arguments[0].scrollTo(0, arguments[1]);\", driver.find_element(By.XPATH, '/html/body/div[2]/div/div/div/div[2]/div/div/div[1]/div/div[2]/div/div/div/div/div[2]/div/div/div[2]'), height)\n",
    "driver.implicitly_wait(4)"
   ]
  },
  {
   "cell_type": "code",
   "execution_count": 155,
   "metadata": {},
   "outputs": [],
   "source": [
    "followers_list = driver.find_elements(By.XPATH, '//div[contains(@class, \"_ab8y\")]')"
   ]
  },
  {
   "cell_type": "code",
   "execution_count": 156,
   "metadata": {},
   "outputs": [
    {
     "name": "stdout",
     "output_type": "stream",
     "text": [
      "50 followers\n",
      "newo.ne12340\n",
      "dhgturcuvr934\n",
      "__alter__ego__22__\n",
      "ahaan_khan_abbbasi\n",
      "airafathima357\n",
      "akshaytandon\n",
      "cook_with_amra\n",
      "hasananeeqa\n",
      "ankitalarai\n",
      "anshikajais_13\n",
      "anu963\n",
      "ashwinaggarwal\n",
      "ayanakotoru\n",
      "gethealthyhigh\n",
      "bhandariikb\n",
      "dailyproteinofficial\n",
      "deepika0066\n",
      "dikshit.dhruv31\n",
      "enthrallingtrend\n",
      "eats__and__treat\n",
      "arabian_kudiyaan\n",
      "foodiesm.time\n",
      "frieswaliind\n",
      "gautampatel7256\n",
      "did_u_knooow\n",
      "kamakshisharmasocial\n",
      "pahari_chora_lucky\n",
      "madhu.raj.50951\n",
      "_manish_4111\n",
      "ne.il8238\n",
      "ahir_brand_4445\n",
      "neetu8157\n",
      "nirlep_chhabra\n",
      "prernajain2020\n",
      "radicle_reviews\n",
      "raktim9999\n",
      "king.gourav007\n",
      "sain.g3558\n",
      "samrathiofficial\n",
      "sam_reese_1\n",
      "sandeepanjana041\n",
      "saracalligraphic\n",
      "sarthak_0016\n",
      "the_delisious_food\n",
      "pandya_upasana\n",
      "utkarshpatel198\n",
      "vrushali_lingayat29\n",
      "w_wasim_ahmed\n",
      "zavier_niloy\n",
      "_khan7706\n"
     ]
    }
   ],
   "source": [
    "print(len(followers_list), \"followers\")\n",
    "for i in followers_list:\n",
    "    print(i.text)"
   ]
  },
  {
   "cell_type": "code",
   "execution_count": 157,
   "metadata": {},
   "outputs": [],
   "source": [
    "driver.find_element(By.XPATH, '/html/body/div[2]/div/div/div/div[2]/div/div/div[1]/div/div[2]/div/div/div/div/div[2]/div/div/div[1]/div/div[3]/div/button').click()\n",
    "    # count+=1"
   ]
  },
  {
   "cell_type": "code",
   "execution_count": 158,
   "metadata": {},
   "outputs": [],
   "source": [
    "searchBox.click()\n",
    "driver.find_element(By.XPATH, '/html/body/div[2]/div/div/div/div[1]/div/div/div/div[1]/div[1]/div[1]/div/div/div[2]/div/div/div[2]/div[1]/div/input').send_keys('sodelhi')\n",
    "WebDriverWait(driver, 5).until(EC.presence_of_element_located((By.XPATH, '/html/body/div[2]/div/div/div/div[1]/div/div/div/div[1]/div[1]/div[1]/div/div/div[2]/div/div/div[2]/div[2]/div/div[1]/div/a/div/div[2]/div[1]/div/div')))\n",
    "driver.find_element(By.XPATH, '/html/body/div[2]/div/div/div/div[1]/div/div/div/div[1]/div[1]/div[1]/div/div/div[2]/div/div/div[2]/div[2]/div/div[1]/div/a/div/div[2]/div[1]/div/div').click()\n",
    "searchBox.click()\n",
    "WebDriverWait(driver, 5).until(EC.presence_of_element_located((By.XPATH, '/html/body/div[2]/div/div/div/div[1]/div/div/div/div[1]/div[1]/div[2]/section/main/div/header/section/ul/li[2]/a/div')))\n",
    "driver.find_element(By.XPATH, '/html/body/div[2]/div/div/div/div[1]/div/div/div/div[1]/div[1]/div[2]/section/main/div/header/section/ul/li[2]/a/div').click()"
   ]
  },
  {
   "cell_type": "code",
   "execution_count": 159,
   "metadata": {},
   "outputs": [],
   "source": [
    "driver.refresh()"
   ]
  },
  {
   "cell_type": "code",
   "execution_count": 160,
   "metadata": {},
   "outputs": [],
   "source": [
    "sodelhi=[]\n",
    "while len(sodelhi) < 499:\n",
    "    # sodelhi=[]\n",
    "    sodelhi = driver.find_elements(By.XPATH, '//div[contains(@class, \"_ab8y\")]')\n",
    "    len(sodelhi)\n",
    "    new_height = driver.execute_script('return arguments[0].scrollHeight', driver.find_element(By.XPATH, '/html/body/div[2]/div/div/div/div[2]/div/div/div[1]/div/div[2]/div/div/div/div/div[2]/div/div/div[2]'))\n",
    "    # print(new_height)\n",
    "    # print(height)\n",
    "    driver.execute_script(\"arguments[0].scrollTo(0, arguments[1]);\", driver.find_element(By.XPATH, '/html/body/div[2]/div/div/div/div[2]/div/div/div[1]/div/div[2]/div/div/div/div/div[2]/div/div/div[2]'), new_height)"
   ]
  },
  {
   "cell_type": "code",
   "execution_count": 161,
   "metadata": {},
   "outputs": [
    {
     "name": "stdout",
     "output_type": "stream",
     "text": [
      "500 followers\n"
     ]
    }
   ],
   "source": [
    "while len(sodelhi)!=500 and len(sodelhi)>500:\n",
    "    sodelhi.pop()\n",
    "print(len(sodelhi), \"followers\")\n"
   ]
  },
  {
   "cell_type": "code",
   "execution_count": 162,
   "metadata": {},
   "outputs": [
    {
     "name": "stdout",
     "output_type": "stream",
     "text": [
      "1 darshanatonpe\n",
      "2 doriangraybutbetter\n",
      "3 vibressence_\n",
      "4 aysha_hayat_khan\n",
      "5 buildingtomorrowpro\n",
      "6 devanshmangal\n",
      "7 _.sonal._jais._\n",
      "8 tushar__khatri\n",
      "9 a.balloon_decoration\n",
      "10 eshagoel30\n",
      "11 nishaghughtyal\n",
      "12 memeshare564\n",
      "13 dipika.mandal.9\n",
      "14 ishxixyz\n",
      "15 yadavrishav584\n",
      "16 _nikhil_wagh_01\n",
      "17 akashdotyadav\n",
      "18 joyasrivastava\n",
      "19 vipul_sharma159\n",
      "20 _yuktiarora_\n",
      "21 afzalsiddiqui._\n",
      "22 mitali7400\n",
      "23 inesshghai\n",
      "24 anne21233\n",
      "25 s3.nn_\n",
      "26 ankit_rathore_27\n",
      "27 ssachin_yadav15\n",
      "28 maahigupta422\n",
      "29 pvt_kajal_taya\n",
      "30 kaashviiii\n",
      "31 sahilmann_17\n",
      "32 rashmi_pokhriyal\n",
      "33 lokes_h7976\n",
      "34 abha_mahindru\n",
      "35 gm_lsg\n",
      "36 mridula.96\n",
      "37 akansha.sonal\n",
      "38 varun.the.observant.guy\n",
      "39 parihar_1990\n",
      "40 _my_food_story_\n",
      "41 iam_nishigandha\n",
      "42 _namrata.mukherjee_\n",
      "43 superstore_uniforms\n",
      "44 thapardeeksha\n",
      "45 ga_uri4980\n",
      "46 sarabjeets.13\n",
      "47 mf3242517\n",
      "48 akash.dwg\n",
      "49 _inzaf_\n",
      "50 vikkas96\n",
      "51 girlishself\n",
      "52 aksh.aee\n",
      "53 iron_addict_tbt\n",
      "54 heyaalim\n",
      "55 devanarayana__\n",
      "56 i_am_rachita\n",
      "57 hpdhingra\n",
      "58 szf.99\n",
      "59 impeccableinsights_\n",
      "60 inderjeettt_\n",
      "61 karanguptainsta\n",
      "62 vishal_arya72\n",
      "63 76risra\n",
      "64 jas_anand0013\n",
      "65 insha.41\n",
      "66 sahilpathan1697\n",
      "67 rajeshrikantjadhav\n",
      "68 imran__khan_901\n",
      "69 harpreetbakshijain\n",
      "70 kaurharleenbulani\n",
      "71 pale_blue____dot\n",
      "72 chiragllmehta\n",
      "73 rashiadreamgirl6\n",
      "74 yogagirl_urvashi\n",
      "75 sumitgautam.09\n",
      "76 dr.karanmadaan\n",
      "77 bhavesh____mehta\n",
      "78 haji_shafeeq_nahari\n",
      "79 abhi_ola\n",
      "80 slowyatri\n",
      "81 neelubawejagan\n",
      "82 _mahirsikand_\n",
      "83 vaibhav_kapoor77\n",
      "84 richaelyja\n",
      "85 _mahipx\n",
      "86 aishwarya.k_07\n",
      "87 ananyaaamalhotra\n",
      "88 mulberryvibes\n",
      "89 shrekklover69\n",
      "90 akshaylamba\n",
      "91 teenchatore\n",
      "92 vandanasatinderyadav\n",
      "93 makeupbybhawnastudio\n",
      "94 nnareshsirohi\n",
      "95 rambler_way\n",
      "96 aanchal_prabha\n",
      "97 pankhurigandotra\n",
      "98 hastin_sanghani\n",
      "99 dmc_specter\n",
      "100 clumsy__wumsy\n",
      "101 its_gadariya_0\n",
      "102 parthism_18\n",
      "103 bhoomikachitransh\n",
      "104 freshlyflaneur\n",
      "105 nishant.vashisth86\n",
      "106 komalmina74\n",
      "107 manusha_reddyy\n",
      "108 _kaartikchoudhary_\n",
      "109 sanya_kochhar\n",
      "110 chai_snacksbistro_46\n",
      "111 artin_moskofyan\n",
      "112 mahavirvikasrai\n",
      "113 ashna07.jain\n",
      "114 drdarshan1\n",
      "115 vaishaliranaa\n",
      "116 gaon_wali_\n",
      "117 vikash_verma922\n",
      "118 nikita.mrgrinch\n",
      "119 luckymasiwal\n",
      "120 tusharpandey_4\n",
      "121 w___i___z1\n",
      "122 types_of_photography1\n",
      "123 absolutetedscouple\n",
      "124 jainraksha4988\n",
      "125 rks19982023\n",
      "126 nehanarulla\n",
      "127 aparnarks\n",
      "128 shobha.rani_4\n",
      "129 ritika.a.a.a.q\n",
      "130 jayant.singh1\n",
      "131 karthik_siddharth__\n",
      "132 _twinkle096\n",
      "133 architguptajii\n",
      "134 preeti.saraf87\n",
      "135 adityaabatraa\n",
      "136 jujukiran\n",
      "137 kanojia6142\n",
      "138 neha_garg4155\n",
      "139 suraj.jain98\n",
      "140 subhankar.dey_\n",
      "141 karishmajayapaul_\n",
      "142 simransinghraikoti\n",
      "143 sulendraokumar\n",
      "144 ___luciferqueen\n",
      "145 akshanshsolanki007\n",
      "146 sunny__balani\n",
      "147 bonntail.india\n",
      "148 kvy__tyl\n",
      "149 _sajalgupta._\n",
      "150 pvt__act__00\n",
      "151 ojasvita_dabas\n",
      "152 dal_jit798\n",
      "153 aneesh_00007\n",
      "154 arunsatija22\n",
      "155 __yadavjyoti__\n",
      "156 kmamta95\n",
      "157 iamexactlyimperfect\n",
      "158 bburari\n",
      "159 _deegarg\n",
      "160 naina_harleen\n",
      "161 imkd30\n",
      "162 vimat_.sara\n",
      "163 vib3swith.dagarsahab\n",
      "164 karan_gupta_007\n",
      "165 nitishakathuria\n",
      "166 ash.kaur7\n",
      "167 harnoorxvirk\n",
      "168 abhilashajolly87\n",
      "169 komalchauhan1708\n",
      "170 desiisamurai\n",
      "171 jyotiprasad30\n",
      "172 sakshiibhatia\n",
      "173 akshay_k_m_g\n",
      "174 priyam__here\n",
      "175 abdulrahman220820142020\n",
      "176 diksha_singh_rana\n",
      "177 ibruce.wayne\n",
      "178 shikharsharma06\n",
      "179 maarielbt\n",
      "180 shanayakapoor48\n",
      "181 akshi.17\n",
      "182 krithinshankar\n",
      "183 amankhan_xx\n",
      "184 jugnu29497\n",
      "185 saumyathakur.14\n",
      "186 mayankkbahukhandi\n",
      "187 nai.shiva.1\n",
      "188 thedispensary.india\n",
      "189 vaiyushi\n",
      "190 harshitaa_verma171\n",
      "191 malika_vij\n",
      "192 alok.agarwal_\n",
      "193 advocate_tanuj_sharma\n",
      "194 sharry.dhingra\n",
      "195 vaibhav_1634\n",
      "196 raunak08\n",
      "197 iam.abhivats\n",
      "198 jimmysanghvi3\n",
      "199 inherently.vintage\n",
      "200 doctor_sahabb\n",
      "201 tanushri.sharma.50999\n",
      "202 khamoshh_parindaa\n",
      "203 sohil_verma_\n",
      "204 mahajan.manjushree\n",
      "205 dhanraj_sagar_07\n",
      "206 kamakshisharmasocial\n",
      "207 saraahhkhawar\n",
      "208 mohammed_fiki\n",
      "209 up.so.high\n",
      "210 gunjan_soneja\n",
      "211 pooniapooja\n",
      "212 shailenderdahiya\n",
      "213 viralmeme89\n",
      "214 sahilposwal26\n",
      "215 arjunyadav_1998\n",
      "216 lilnecstasy\n",
      "217 smartyboi_delhi\n",
      "218 maaaansi05\n",
      "219 mehak.etc\n",
      "220 drshubhiraj\n",
      "221 midnight_molar\n",
      "222 travellerr_01\n",
      "223 suchetagargg\n",
      "224 150602vansh\n",
      "225 ashish199583\n",
      "226 sakshammkumar\n",
      "227 saakshi_mahendru\n",
      "228 karthiknayak11\n",
      "229 neogems_jewellery\n",
      "230 hardi.kkaur\n",
      "231 thehideaway0\n",
      "232 gemporiobykakason\n",
      "233 theaditidahiya\n",
      "234 _yash_vardha\n",
      "235 locky2272\n",
      "236 pritam_rajput1614\n",
      "237 smart___gril___131\n",
      "238 travelling_sundays7\n",
      "239 _heart.hacker.09\n",
      "240 _jeet_77_\n",
      "241 guddofaruki\n",
      "242 sushruthamithun\n",
      "243 bookfluentt_\n",
      "244 roshni_jen_konjengbam\n",
      "245 sweetie_______0ra\n",
      "246 yamma1980\n",
      "247 vishal_saini666\n",
      "248 vsconceptsandcare\n",
      "249 i_m_sachin_upadhayay\n",
      "250 aman.wadhwa.3701\n",
      "251 digitalsos123\n",
      "252 in2ca\n",
      "253 aishineearora\n",
      "254 ramangujral____\n",
      "255 sonali_c137\n",
      "256 achyutv14\n",
      "257 nutanveerendra\n",
      "258 miss_tanvi_198\n",
      "259 bansal_kaushiki\n",
      "260 szigetizita\n",
      "261 bushraansariii._\n",
      "262 khyati_no\n",
      "263 gungun.2000\n",
      "264 tusharphotographer_\n",
      "265 kashishgulati\n",
      "266 samridhi_1730\n",
      "267 mr_king.112\n",
      "268 big_nose.small_eyes\n",
      "269 itzahmeed\n",
      "270 abhishek_modi93\n",
      "271 gagan_d33p_singh_\n",
      "272 srishti_gupta24\n",
      "273 smriti_.16\n",
      "274 l_jatin\n",
      "275 dilkash_shahi\n",
      "276 anohita_nosurnameplease\n",
      "277 siddhant922\n",
      "278 sanjna.rani.3950178\n",
      "279 deliberatecreator7\n",
      "280 arveezai\n",
      "281 anirudh_kaul\n",
      "282 ujjwal_nayan_singh\n",
      "283 as971688\n",
      "284 sarcastic_scorpio_\n",
      "285 akshiagarwal75\n",
      "286 shubh14am\n",
      "287 naved_choudhary27\n",
      "288 amitarora.2009\n",
      "289 aaun_wala_time_tere_yaar_da\n",
      "290 manssinainwal\n",
      "291 ya_yu_11\n",
      "292 tiwarishruti333\n",
      "293 __kashmiya__\n",
      "294 kumar_piyush\n",
      "295 lokesh_miles2go\n",
      "296 4.m.i.t\n",
      "297 atri_yee\n",
      "298 kashish_choudhary_111\n",
      "299 chalokoina\n",
      "300 akshaybansal290\n",
      "301 _ishika_7\n",
      "302 starry_night_44\n",
      "303 maham_soomro\n",
      "304 divya.vadher.77\n",
      "305 avishek.ban\n",
      "306 rajasthanifoodphotography\n",
      "307 persie07\n",
      "308 singla_yash\n",
      "309 abhaysinghparihar79\n",
      "310 vatsal_goel07\n",
      "311 pradeepjindal007\n",
      "312 m.danish562676\n",
      "313 perfect_alam\n",
      "314 thakral6610\n",
      "315 therthani\n",
      "316 jerry__hicks\n",
      "317 parnavinagar\n",
      "318 kabir.narain\n",
      "319 somyaaaa___\n",
      "320 yashikamehra.etc\n",
      "321 kinikabatla\n",
      "322 agarwalanika94\n",
      "323 mrmitra2023\n",
      "324 platformx_inc\n",
      "325 paridhi_bilala5\n",
      "326 xx._debas\n",
      "327 namrata_senani_garg\n",
      "328 arun_krs248\n",
      "329 satendra.kumar.5621149\n",
      "330 hey_san6\n",
      "331 _yajashmehra_02\n",
      "332 prajakta2491\n",
      "333 omkar_yadav7556\n",
      "334 true_living_club_2\n",
      "335 german_und_du\n",
      "336 hey_janvii\n",
      "337 urabhi.99\n",
      "338 madhurbajaj7\n",
      "339 moneka_salluja\n",
      "340 _.laksy\n",
      "341 ohwoooow_celebrities\n",
      "342 niyatisainii\n",
      "343 arxhika143\n",
      "344 ek.oneness\n",
      "345 diva_shukla\n",
      "346 anshi.1010_\n",
      "347 patiala_wedding_jutti\n",
      "348 chauhangagandeep\n",
      "349 _dhruvbhatia_\n",
      "350 elea_pons\n",
      "351 akshit_kanojiya\n",
      "352 iajeetsingh\n",
      "353 dirtytort92\n",
      "354 gulzarkhan6985\n",
      "355 kirti_choudhary_76\n",
      "356 _aashimittal_\n",
      "357 karan_pratap_kp9\n",
      "358 hardy_photography_\n",
      "359 iluvhotmoms333\n",
      "360 mumin_207\n",
      "361 pri.yanshgarg\n",
      "362 ca_nikhar_gupta\n",
      "363 tashmit2\n",
      "364 lullanamita\n",
      "365 frozenninja_07\n",
      "366 gurpreet2223\n",
      "367 menon_alka\n",
      "368 apeacefulsoul__\n",
      "369 aad.it\n",
      "370 twinkledawar16\n",
      "371 lavishmahar\n",
      "372 gagandeep151230\n",
      "373 rachita_arora31\n",
      "374 raosamarth_26\n",
      "375 muhammad_sarfraaz_ansari\n",
      "376 glass_degining\n",
      "377 pujasinghania2727\n",
      "378 sonia93guptags\n",
      "379 ak.hil3380\n",
      "380 itsanushkasingh_\n",
      "381 atulgoyal015\n",
      "382 neelkamalbirdi\n",
      "383 pankaj_dahiya___\n",
      "384 sharadkhemka\n",
      "385 mallikanarang96\n",
      "386 adams0880\n",
      "387 pathetic_weakling\n",
      "388 barkhaanijwal\n",
      "389 sujataspanda\n",
      "390 priyaaasingh08\n",
      "391 nan.ko.chaiye.chein\n",
      "392 nidhidixit5550\n",
      "393 im_notshafad\n",
      "394 ushaaa\n",
      "395 _yumyum_23\n",
      "396 shammi_singh02\n",
      "397 dumbasshloka\n",
      "398 rockstardev4\n",
      "399 devansh_aneja\n",
      "400 _.kashishsingh._\n",
      "401 bashayerfaisal\n",
      "402 ajay_jr8\n",
      "403 akshit_kaushikkk\n",
      "404 sri_lasya_rbv\n",
      "405 _chetansaxena_\n",
      "406 anilkumarsolanki050\n",
      "407 garg.ishu15\n",
      "408 rohantripathi_\n",
      "409 s4sameed\n",
      "410 x_gaurav_pvt\n",
      "411 __richayadav__\n",
      "412 abrara287\n",
      "413 rayof____sunshine\n",
      "414 aawa_ramusafir\n",
      "415 itsavii\n",
      "416 aa_balanari\n",
      "417 _.divjot\n",
      "418 agrawal_kavya09\n",
      "419 som.yaaa_\n",
      "420 unique_arora786\n",
      "421 dr.utkarshgupta\n",
      "422 om.jha7\n",
      "423 maheshwarisah_anuja\n",
      "424 argfacthub\n",
      "425 sonalithakur8089\n",
      "426 shubham_mehroliyaa\n",
      "427 arhaan_jamil_2007\n",
      "428 siddhika_poddar\n",
      "429 ___ru_pal__\n",
      "430 prernawadhwa7\n",
      "431 ashwin_kw\n",
      "432 _nikhil._.anand_\n",
      "433 nunusylo1706\n",
      "434 __nainaverma__\n",
      "435 daveo_1212_\n",
      "436 the_.lost_shadow\n",
      "437 whopoojathakur\n",
      "438 25umrfurk06\n",
      "439 saood_khan_sk\n",
      "440 budding.artist_mr\n",
      "441 nainahans\n",
      "442 the.one.she_\n",
      "443 srishti235\n",
      "444 __moniii_\n",
      "445 irfan_golden96\n",
      "446 tamerlanv777\n",
      "447 ronit_99434\n",
      "448 mayankrohira\n",
      "449 vandananagendra\n",
      "450 daniel.cyril26\n",
      "451 ritikahuria\n",
      "452 swapnilsanjayjain\n",
      "453 arvinda_sneha\n",
      "454 tarun_kumar.2002\n",
      "455 thepackersmovers.tpm\n",
      "456 ajbwehwbw\n",
      "457 igsaniaa\n",
      "458 iampawan18\n",
      "459 the_skybhardwaj\n",
      "460 digitaleraclasses\n",
      "461 black_soul_ash\n",
      "462 mini.chandra\n",
      "463 debadritadatta\n",
      "464 snowy.theshihtzu_\n",
      "465 delhi_city__\n",
      "466 dishankkk__\n",
      "467 nitinbhatia_insta\n",
      "468 official_yadav_nee2\n",
      "469 snaraya512\n",
      "470 aryan_v6\n",
      "471 sudhanshu12345685\n",
      "472 uma71329\n",
      "473 adhikarihimanshi27\n",
      "474 kpreeti.2011\n",
      "475 mohmmad_mustak_khan_muman___\n",
      "476 lakshmankumar4279\n",
      "477 temptingtreats_._\n",
      "478 toobasaleemkhairi\n",
      "479 realrajansharma\n",
      "480 rom_il_\n",
      "481 hanging_eagle\n",
      "482 sarthakahluwalia_\n",
      "483 _pratishtha_srivastava_\n",
      "484 khus_sandhu95\n",
      "485 niharikarathor82\n",
      "486 the_kav_shopping\n",
      "487 blow_slayer\n",
      "488 nihaariika\n",
      "489 aayuusshhhiii\n",
      "490 chitraaksh\n",
      "491 prerna_kataria_\n",
      "492 amanghai15\n",
      "493 ekaavali\n",
      "494 techlover59\n",
      "495 junkmonk_\n",
      "496 ajsshtyd\n",
      "497 manav_jain_97\n",
      "498 its_chodhary0000\n",
      "499 mayankarora784\n",
      "500 _sofiarehman_\n"
     ]
    }
   ],
   "source": [
    "count=1\n",
    "for i in sodelhi:\n",
    "    print(count, i.text)\n",
    "    count+=1"
   ]
  },
  {
   "cell_type": "code",
   "execution_count": 163,
   "metadata": {},
   "outputs": [],
   "source": [
    "driver.find_element(By.XPATH, '/html/body/div[2]/div/div/div/div[2]/div/div/div[1]/div/div[2]/div/div/div/div/div[2]/div/div/div[1]/div/div[3]/div/button').click()"
   ]
  },
  {
   "attachments": {},
   "cell_type": "markdown",
   "metadata": {},
   "source": [
    "## Check the story of ‘coding.ninjas’. Consider the following\n",
    "#### Scenarios and print error messages accordingly -\n",
    "##### If You have already seen the story.\n",
    "##### Or The user has no story.\n",
    "##### Or View the story if not yet seen."
   ]
  },
  {
   "cell_type": "code",
   "execution_count": 164,
   "metadata": {},
   "outputs": [],
   "source": [
    "driver.find_element(By.XPATH, '/html/body/div[2]/div/div/div/div[1]/div/div/div/div[1]/div[1]/div[1]/div/div/div/div/div[2]/div[2]/div').click()\n",
    "WebDriverWait(driver, 5).until(EC.presence_of_element_located((By.XPATH, '/html/body/div[2]/div/div/div/div[1]/div/div/div/div[1]/div[1]/div[1]/div/div/div[2]/div/div/div[2]/div[1]/div/input')))\n",
    "driver.find_element(By.XPATH, '/html/body/div[2]/div/div/div/div[1]/div/div/div/div[1]/div[1]/div[1]/div/div/div[2]/div/div/div[2]/div[1]/div/input').send_keys('coding.ninjas')\n",
    "WebDriverWait(driver, 5).until(EC.presence_of_element_located((By.XPATH, '/html/body/div[2]/div/div/div/div[1]/div/div/div/div[1]/div[1]/div[1]/div/div/div[2]/div/div/div[2]/div[2]/div/div[1]/div/a/div/div[2]/div[1]/div/div')))\n",
    "driver.find_element(By.XPATH, '/html/body/div[2]/div/div/div/div[1]/div/div/div/div[1]/div[1]/div[1]/div/div/div[2]/div/div/div[2]/div[2]/div/div[1]/div/a/div/div[2]/div[1]/div/div').click()\n",
    "time.sleep(3)"
   ]
  },
  {
   "cell_type": "code",
   "execution_count": 165,
   "metadata": {},
   "outputs": [],
   "source": [
    "driver.find_element(By.XPATH, '/html/body/div[2]/div/div/div/div[1]/div/div/div/div[1]/div[1]/div[1]/div/div/div/div/div[2]/div[2]/div').click()\n",
    "s = driver.find_element(By.XPATH, '/html/body/div[2]/div/div/div/div[1]/div/div/div/div[1]/div[1]/div[2]/section/main/div/header/div/div/canvas')"
   ]
  },
  {
   "cell_type": "code",
   "execution_count": 166,
   "metadata": {},
   "outputs": [
    {
     "name": "stdout",
     "output_type": "stream",
     "text": [
      "You have not seen the story, Now the story is being shown to you check in driver.\n"
     ]
    }
   ],
   "source": [
    "if s.get_attribute('height') == '166':\n",
    "    print(\"You have already seen the story\")\n",
    "elif s.get_attribute('height')  == '168':\n",
    "    print(\"You have not seen the story, Now the story is being shown to you check in driver.\")\n",
    "    driver.find_element(By.XPATH, '/html/body/div[2]/div/div/div/div[1]/div/div/div/div[1]/div[1]/div[2]/section/main/div/header/div/div').click()\n",
    "else:\n",
    "    print(\"User has not posted any story\")\n"
   ]
  },
  {
   "cell_type": "code",
   "execution_count": null,
   "metadata": {},
   "outputs": [],
   "source": []
  },
  {
   "cell_type": "code",
   "execution_count": null,
   "metadata": {},
   "outputs": [],
   "source": []
  }
 ],
 "metadata": {
  "kernelspec": {
   "display_name": "Python 3",
   "language": "python",
   "name": "python3"
  },
  "language_info": {
   "codemirror_mode": {
    "name": "ipython",
    "version": 3
   },
   "file_extension": ".py",
   "mimetype": "text/x-python",
   "name": "python",
   "nbconvert_exporter": "python",
   "pygments_lexer": "ipython3",
   "version": "3.10.5 (tags/v3.10.5:f377153, Jun  6 2022, 16:14:13) [MSC v.1929 64 bit (AMD64)]"
  },
  "orig_nbformat": 4,
  "vscode": {
   "interpreter": {
    "hash": "26de051ba29f2982a8de78e945f0abaf191376122a1563185a90213a26c5da77"
   }
  }
 },
 "nbformat": 4,
 "nbformat_minor": 2
}
